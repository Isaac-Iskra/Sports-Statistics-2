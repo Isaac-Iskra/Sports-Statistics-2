{
  "nbformat": 4,
  "nbformat_minor": 0,
  "metadata": {
    "colab": {
      "provenance": []
    },
    "kernelspec": {
      "name": "python3",
      "display_name": "Python 3"
    },
    "language_info": {
      "name": "python"
    }
  },
  "cells": [
    {
      "cell_type": "code",
      "source": [
        "#PREWORK FOR THE PREDICTION"
      ],
      "metadata": {
        "id": "EJElB9cUwA7W"
      },
      "execution_count": null,
      "outputs": []
    },
    {
      "cell_type": "code",
      "execution_count": null,
      "metadata": {
        "id": "QkZkOTqqvbYN"
      },
      "outputs": [],
      "source": [
        "# Import libraries\n",
        "import pandas as pd\n",
        "from pathlib import Path\n",
        "from sklearn.preprocessing import StandardScaler\n",
        "from sklearn.decomposition import PCA\n",
        "from sklearn.cluster import KMeans"
      ]
    },
    {
      "cell_type": "code",
      "source": [
        "#Load CSVs\n",
        "file_path_2020_p = Path(\"RESOURCES/2020_p.csv\")\n",
        "file_path_2020 = Path(\"RESOURCES/2020.csv\")\n",
        "file_path_2019 = Path(\"RESOURCES/2019.csv\")\n",
        "file_path_2018 = Path(\"RESOURCES/2018.csv\")\n",
        "file_path_2017 = Path(\"RESOURCES/2017.csv\")\n",
        "file_path_2016 = Path(\"RESOURCES/2016.csv\")\n",
        "file_path_2015 = Path(\"RESOURCES/2015.csv\")\n",
        "file_path_2014 = Path(\"RESOURCES/2014.csv\")\n",
        "file_path_2013 = Path(\"RESOURCES/2013.csv\")\n",
        "file_path_2012 = Path(\"RESOURCES/2012.csv\")\n",
        "file_path_2011 = Path(\"RESOURCES/2011.csv\")\n",
        "#Read in CSVs\n",
        "df_2020_p = pd.read_csv(file_path_2020_p, index_col='Date', infer_datetime_format=True, dayfirst=True, parse_dates=True) \n",
        "df_2020 = pd.read_csv(file_path_2020, index_col='Date', infer_datetime_format=True, dayfirst=True, parse_dates=True) \n",
        "df_2019 = pd.read_csv(file_path_2019, index_col='Date', infer_datetime_format=True, dayfirst=True, parse_dates=True) \n",
        "df_2018 = pd.read_csv(file_path_2018, index_col='Date', infer_datetime_format=True, dayfirst=True, parse_dates=True)\n",
        "df_2017 = pd.read_csv(file_path_2017, index_col='Date', infer_datetime_format=True, dayfirst=True, parse_dates=True)\n",
        "df_2016 = pd.read_csv(file_path_2016, index_col='Date', infer_datetime_format=True, dayfirst=True, parse_dates=True)\n",
        "df_2015 = pd.read_csv(file_path_2015, index_col='Date', infer_datetime_format=True, dayfirst=True, parse_dates=True)\n",
        "df_2014 = pd.read_csv(file_path_2014, index_col='Date', infer_datetime_format=True, dayfirst=True, parse_dates=True)\n",
        "df_2013 = pd.read_csv(file_path_2013, index_col='Date', infer_datetime_format=True, dayfirst=True, parse_dates=True)\n",
        "df_2012 = pd.read_csv(file_path_2012, index_col='Date', infer_datetime_format=True, dayfirst=True, parse_dates=True)\n",
        "df_2011 = pd.read_csv(file_path_2011, index_col='Date', infer_datetime_format=True, dayfirst=True, parse_dates=True)"
      ],
      "metadata": {
        "id": "8tkxEMTivoNI"
      },
      "execution_count": null,
      "outputs": []
    },
    {
      "cell_type": "code",
      "source": [
        "#Concat Data\n",
        "train_epl_df = pd.concat([df_2020,df_2019, df_2018, df_2017, df_2016, df_2015, df_2014, df_2013, df_2012, df_2011],axis=\"index\", join=\"inner\")"
      ],
      "metadata": {
        "id": "7b8qG3tuvuQ5"
      },
      "execution_count": null,
      "outputs": []
    },
    {
      "cell_type": "code",
      "source": [
        "print(train_epl_df.columns.values)"
      ],
      "metadata": {
        "id": "pGk2zqi5vyzR"
      },
      "execution_count": null,
      "outputs": []
    },
    {
      "cell_type": "code",
      "source": [
        "train_epl_df.sort_index(inplace=True)"
      ],
      "metadata": {
        "id": "htOMC4D5v102"
      },
      "execution_count": null,
      "outputs": []
    },
    {
      "cell_type": "code",
      "source": [
        "#Pull the Testing Data for 2019\n",
        "predict_epl_df = (df_2020_p)\n",
        "predict_epl_df.sort_index(inplace=True)"
      ],
      "metadata": {
        "id": "MS9G3Dbsv5Eq"
      },
      "execution_count": null,
      "outputs": []
    },
    {
      "cell_type": "code",
      "source": [
        "print(predict_epl_df.columns.values)\n"
      ],
      "metadata": {
        "id": "NEyHWslYwHPb"
      },
      "execution_count": null,
      "outputs": []
    },
    {
      "cell_type": "code",
      "source": [
        "# Check data for nulls, check for sum, for Train Data\n",
        "train_epl_df.isnull().sum()\n",
        "train_epl_df.dropna(inplace=True)\n",
        "train_epl_df.isnull().sum().head()"
      ],
      "metadata": {
        "id": "a2AW4aHPwLJQ"
      },
      "execution_count": null,
      "outputs": []
    },
    {
      "cell_type": "code",
      "source": [
        "# Check data for nulls, check for sum, for Test Data\n",
        "predict_epl_df.isnull().sum()\n",
        "predict_epl_df.dropna(inplace=True)\n",
        "predict_epl_df.isnull().sum().head()"
      ],
      "metadata": {
        "id": "58LnzKAFwOFF"
      },
      "execution_count": null,
      "outputs": []
    },
    {
      "cell_type": "code",
      "source": [
        "#To check the columns for the Train dataframe\n",
        "train_epl_df.head()\n",
        "print(train_epl_df.columns.values)"
      ],
      "metadata": {
        "id": "Lo1IqUqewTZI"
      },
      "execution_count": null,
      "outputs": []
    },
    {
      "cell_type": "code",
      "source": [
        "#Drop Excess columns Train Data\n",
        "train_epl_df = train_epl_df.drop(columns=['Div', 'Referee', 'HS', 'AS', 'HC', 'AC', \n",
        "                                        'BWA','BWH', 'BWD', 'IWH', 'IWD', 'IWA', 'VCH', 'VCD', 'VCA',\n",
        "                                         ])\n",
        "train_epl_df.head()"
      ],
      "metadata": {
        "id": "oh2fUd8twUpx"
      },
      "execution_count": null,
      "outputs": []
    },
    {
      "cell_type": "code",
      "source": [
        "#Check new columns for Train Data\n",
        "train_epl_df.head()\n",
        "print(train_epl_df.columns.values)"
      ],
      "metadata": {
        "id": "VNVc_AuzwZUy"
      },
      "execution_count": null,
      "outputs": []
    },
    {
      "cell_type": "code",
      "source": [
        "#To check the columns for the predict dataframe\n",
        "predict_epl_df.head()\n",
        "print(predict_epl_df.columns.values)"
      ],
      "metadata": {
        "id": "rJI2krG0waQO"
      },
      "execution_count": null,
      "outputs": []
    },
    {
      "cell_type": "code",
      "source": [
        "#Rename Columns \n",
        "train_epl_df = train_epl_df.rename(columns={\n",
        "    \"FTHG\": \"FT_HomeGoals\", \"FTAG\": \"FT_AwayGoals\", \"FTR\": \"FT_Result\", \"HTHG\": \"HT_HomeGoals\", \"HTAG\": \"HT_AwayGoals\", \"HTR\": \"HT_Result\", \"HST\": \"HomeShotsonTarget\", \"AST\": \"AwayShotsonTarget\",\n",
        "    \"HF\": \"HomeFouls\", \"AF\": \"AwayFouls\", \"HY\": \"HomeYellowCards\", \"AY\": \"AwayYellowCards\", \"HR\": \"HomeRedCards\", \"AR\": \"AwayRedCards\",\n",
        "    \"B365H\" : \"Bet365_HomeWin_Odds\", \"B365D\": \"Bet365_Draw_Odds\", \"B365A\": \"Bet365_AwayWin_Odds\", \"WHH\": \"WilliamHill_HomeWin_Odds\", \"WHD\": \"WilliamHill_HomeDraw_Odds\", \"WHA\": \"WilliamHill_AwayWin_Odds\"})\n",
        "train_epl_df.head()"
      ],
      "metadata": {
        "id": "31UbvfJiwc-V"
      },
      "execution_count": null,
      "outputs": []
    },
    {
      "cell_type": "code",
      "source": [
        "#Rename Columns for test Data\n",
        "predict_epl_df = predict_epl_df.rename(columns={\n",
        "    \"FTHG\": \"FT_HomeGoals\", \"FTAG\": \"FT_AwayGoals\", \"FTR\": \"FT_Result\", \"HTHG\": \"HT_HomeGoals\", \"HTAG\": \"HT_AwayGoals\", \"HTR\": \"HT_Result\", \"HST\": \"HomeShotsonTarget\", \"AST\": \"AwayShotsonTarget\",\n",
        "    \"HF\": \"HomeFouls\", \"AF\": \"AwayFouls\", \"HY\": \"HomeYellowCards\", \"AY\": \"AwayYellowCards\", \"HR\": \"HomeRedCards\", \"AR\": \"AwayRedCards\",\n",
        "    \"B365H\" : \"Bet365_HomeWin_Odds\", \"B365D\": \"Bet365_Draw_Odds\", \"B365A\": \"Bet365_AwayWin_Odds\", \"WHH\": \"WilliamHill_HomeWin_Odds\", \"WHD\": \"WilliamHill_HomeDraw_Odds\", \"WHA\": \"WilliamHill_AwayWin_Odds\"})\n",
        "predict_epl_df.head()"
      ],
      "metadata": {
        "id": "C-agu5POwfsj"
      },
      "execution_count": null,
      "outputs": []
    },
    {
      "cell_type": "code",
      "source": [
        "#Assign Value of 1/0 for Result Column based off of Function\n",
        "def conditions(s):\n",
        "    if (s['FT_Result'] == \"H\"):\n",
        "        return 1\n",
        "    else:\n",
        "        return 0"
      ],
      "metadata": {
        "id": "BpfT8bCgwjHm"
      },
      "execution_count": null,
      "outputs": []
    },
    {
      "cell_type": "code",
      "source": [
        "#Assign funciton to each train/test dataframe\n",
        "train_epl_df['Result'] = train_epl_df.apply(conditions, axis=1)\n",
        "predict_epl_df['Result'] = predict_epl_df.apply(conditions, axis=1)"
      ],
      "metadata": {
        "id": "WIZX-vSNwltH"
      },
      "execution_count": null,
      "outputs": []
    },
    {
      "cell_type": "code",
      "source": [
        "#SEPERATE DATA FRAMES BASED ON TEAM; HOME VS. AWAY, BETWEEN TRAIN AND TEST DATA"
      ],
      "metadata": {
        "id": "uxI_aqj0w-Ls"
      },
      "execution_count": null,
      "outputs": []
    },
    {
      "cell_type": "code",
      "source": [
        "#Create DataFrames for Each Team by HomeTeam for Train Data\n",
        "everton_home_df = train_epl_df.loc[train_epl_df[\"HomeTeam\"] == \"Everton\"]\n",
        "astonvilla_home_df = train_epl_df.loc[train_epl_df[\"HomeTeam\"] == \"Aston Villa\"]\n",
        "leicester_home_df = train_epl_df.loc[train_epl_df[\"HomeTeam\"] == \"Leicester\"]\n",
        "arsenal_home_df = train_epl_df.loc[train_epl_df[\"HomeTeam\"] == \"Arsenal\"]\n",
        "liverpool_home_df = train_epl_df.loc[train_epl_df[\"HomeTeam\"] == \"Liverpool\"]\n",
        "tottenham_home_df = train_epl_df.loc[train_epl_df[\"HomeTeam\"] == \"Tottenham\"]\n",
        "chelsea_home_df = train_epl_df.loc[train_epl_df[\"HomeTeam\"] == \"Chelsea\"]\n",
        "leeds_home_df = train_epl_df.loc[train_epl_df[\"HomeTeam\"] == \"Leeds\"]\n",
        "newcastle_home_df = train_epl_df.loc[train_epl_df[\"HomeTeam\"] == \"Newcastle\"]\n",
        "westham_home_df = train_epl_df.loc[train_epl_df[\"HomeTeam\"] == \"West Ham\"]\n",
        "southampton_home_df = train_epl_df.loc[train_epl_df[\"HomeTeam\"] == \"Southampton\"]\n",
        "crystal_home_df = train_epl_df.loc[train_epl_df[\"HomeTeam\"] == \"Crystal Palace\"]\n",
        "wolves_home_df = train_epl_df.loc[train_epl_df[\"HomeTeam\"] == \"Wolves\"]\n",
        "mancity_home_df = train_epl_df.loc[train_epl_df[\"HomeTeam\"] == \"Man City\"]\n",
        "brighton_home_df = train_epl_df.loc[train_epl_df[\"HomeTeam\"] == \"Brighton\"]\n",
        "manutd_home_df = train_epl_df.loc[train_epl_df[\"HomeTeam\"] == \"Man United\"]\n",
        "westbrom_home_df = train_epl_df.loc[train_epl_df[\"HomeTeam\"] == \"West Brom\"]\n",
        "burnley_home_df = train_epl_df.loc[train_epl_df[\"HomeTeam\"] == \"Burnley\"]\n",
        "sheffield_home_df = train_epl_df.loc[train_epl_df[\"HomeTeam\"] == \"Sheffield United\"]\n",
        "fulham_home_df = train_epl_df.loc[train_epl_df[\"HomeTeam\"] == \"Fulham\"]"
      ],
      "metadata": {
        "id": "KJGN7i13xGz-"
      },
      "execution_count": null,
      "outputs": []
    },
    {
      "cell_type": "code",
      "source": [
        "#Create DataFrames for Each Team by HomeTeam for Test Data\n",
        "everton_home_t_df = predict_epl_df.loc[predict_epl_df[\"HomeTeam\"] == \"Everton\"]\n",
        "liverpool_home_t_df = predict_epl_df.loc[predict_epl_df[\"HomeTeam\"] == \"Liverpool\"]\n",
        "\n",
        "chelsea_home_t_df = predict_epl_df.loc[predict_epl_df[\"HomeTeam\"] == \"Chelsea\"]\n",
        "southampton_home_t_df = predict_epl_df.loc[predict_epl_df[\"HomeTeam\"] == \"Southampton\"]\n",
        "\n",
        "mancity_home_t_df = predict_epl_df.loc[predict_epl_df[\"HomeTeam\"] == \"Man City\"]\n",
        "arsenal_home_t_df = predict_epl_df.loc[predict_epl_df[\"HomeTeam\"] == \"Arsenal\"]\n",
        "\n",
        "newcastle_home_t_df = predict_epl_df.loc[predict_epl_df[\"HomeTeam\"] == \"Newcastle\"]\n",
        "manutd_home_t_df = predict_epl_df.loc[predict_epl_df[\"HomeTeam\"] == \"Man United\"]"
      ],
      "metadata": {
        "id": "zlach_UfxqKW"
      },
      "execution_count": null,
      "outputs": []
    },
    {
      "cell_type": "code",
      "source": [
        "#Create DataFrames for Each Team by AwayTeam for Train Data\n",
        "everton_away_df = train_epl_df.loc[train_epl_df[\"AwayTeam\"] == \"Everton\"]\n",
        "astonvilla_away_df = train_epl_df.loc[train_epl_df[\"AwayTeam\"] == \"Aston Villa\"]\n",
        "leicester_away_df = train_epl_df.loc[train_epl_df[\"AwayTeam\"] == \"Leicester\"]\n",
        "arsenal_away_df = train_epl_df.loc[train_epl_df[\"AwayTeam\"] == \"Arsenal\"]\n",
        "liverpool_away_df = train_epl_df.loc[train_epl_df[\"AwayTeam\"] == \"Liverpool\"]\n",
        "tottenham_away_df = train_epl_df.loc[train_epl_df[\"AwayTeam\"] == \"Tottenham\"]\n",
        "chelsea_away_df = train_epl_df.loc[train_epl_df[\"AwayTeam\"] == \"Chelsea\"]\n",
        "leeds_away_df = train_epl_df.loc[train_epl_df[\"AwayTeam\"] == \"Leeds\"]\n",
        "newcastle_away_df = train_epl_df.loc[train_epl_df[\"AwayTeam\"] == \"Newcastle\"]\n",
        "westham_away_df = train_epl_df.loc[train_epl_df[\"AwayTeam\"] == \"West Ham\"]\n",
        "southampton_away_df = train_epl_df.loc[train_epl_df[\"AwayTeam\"] == \"Southampton\"]\n",
        "crystal_away_df = train_epl_df.loc[train_epl_df[\"AwayTeam\"] == \"Crystal Palace\"]\n",
        "wolves_away_df = train_epl_df.loc[train_epl_df[\"AwayTeam\"] == \"Wolves\"]\n",
        "mancity_away_df = train_epl_df.loc[train_epl_df[\"AwayTeam\"] == \"Man City\"]\n",
        "brighton_away_df = train_epl_df.loc[train_epl_df[\"AwayTeam\"] == \"Brighton\"]\n",
        "manutd_away_df = train_epl_df.loc[train_epl_df[\"AwayTeam\"] == \"Man United\"]\n",
        "westbrom_away_df = train_epl_df.loc[train_epl_df[\"AwayTeam\"] == \"West Brom\"]\n",
        "burnley_away_df = train_epl_df.loc[train_epl_df[\"AwayTeam\"] == \"Burnley\"]\n",
        "sheffield_away_df = train_epl_df.loc[train_epl_df[\"AwayTeam\"] == \"Sheffield United\"]\n",
        "fulham_away_df = train_epl_df.loc[train_epl_df[\"AwayTeam\"] == \"Fulham\"]"
      ],
      "metadata": {
        "id": "PMNp4kodkXLo"
      },
      "execution_count": null,
      "outputs": []
    },
    {
      "cell_type": "code",
      "source": [
        "#Create DataFrames for Each Team by AwayTeam for Test Data\n",
        "everton_away_t_df = predict_epl_df.loc[predict_epl_df[\"AwayTeam\"] == \"Everton\"]\n",
        "liverpool_away_t_df = predict_epl_df.loc[predict_epl_df[\"AwayTeam\"] == \"Liverpool\"]\n",
        "\n",
        "chelsea_away_t_df = predict_epl_df.loc[predict_epl_df[\"AwayTeam\"] == \"Chelsea\"]\n",
        "southampton_away_t_df = predict_epl_df.loc[predict_epl_df[\"AwayTeam\"] == \"Southampton\"]\n",
        "\n",
        "mancity_away_t_df = predict_epl_df.loc[predict_epl_df[\"AwayTeam\"] == \"Man City\"]\n",
        "arsenal_away_t_df = predict_epl_df.loc[predict_epl_df[\"AwayTeam\"] == \"Arsenal\"]\n",
        "\n",
        "newcastle_away_t_df = predict_epl_df.loc[predict_epl_df[\"AwayTeam\"] == \"Newcastle\"]\n",
        "manutd_away_t_df = predict_epl_df.loc[predict_epl_df[\"AwayTeam\"] == \"Man United\"]"
      ],
      "metadata": {
        "id": "-91W8EQPkb-I"
      },
      "execution_count": null,
      "outputs": []
    },
    {
      "cell_type": "code",
      "source": [
        "#MACHINE LEARNING FOR RELEVANT GAMES"
      ],
      "metadata": {
        "id": "da0fsJ01kfSD"
      },
      "execution_count": null,
      "outputs": []
    },
    {
      "cell_type": "code",
      "source": [
        "#Export to Excel, to add a cell in prematch stats (HomeTeam/AwayTeam and Book Maker odds). Deleted top and bottom row from CSV. \n",
        "#Now, For Example, the 5/1/2011 (Game2), has LiverPool versing NewCastle, but has the results of the Liverpool/Tottenham (Game1), to use as features for Game2.\n",
        "#Commenting out CSVs to prevent multiple saved files.\n",
        "\n",
        "\n",
        "#everton_home_t_df.to_csv('Everton_Home_T_p.csv')\n",
        "#everton_home_df.to_csv('Everton_Home_p.csv')"
      ],
      "metadata": {
        "id": "_709tZlgkjKU"
      },
      "execution_count": null,
      "outputs": []
    },
    {
      "cell_type": "code",
      "source": [
        "#Read in newly adjusted Everton CSVs as the HomeTeam\n",
        "everton_home_p = Path(\"RESOURCES/TeamCSVs2020/Everton_Home_p.csv\")\n",
        "everton_home_p_t = Path(\"RESOURCES/TeamCSVs2020/Everton_Home_T_p.csv\")\n",
        "#Read in CSVs\n",
        "everton_home_p = pd.read_csv(everton_home_p)\n",
        "everton_home_p_t = pd.read_csv(everton_home_p_t)"
      ],
      "metadata": {
        "id": "fCISR0NEktZO"
      },
      "execution_count": null,
      "outputs": []
    },
    {
      "cell_type": "code",
      "source": [
        "#Set Index of Date/HomeTeam/AwayTeam for Everton Home\n",
        "everton_home_p = everton_home_p.set_index(['Date', 'HomeTeam', 'AwayTeam'], drop = True)\n",
        "everton_home_p_t = everton_home_p_t.set_index(['Date', 'HomeTeam', 'AwayTeam'], drop = True)"
      ],
      "metadata": {
        "id": "2yyXIkbHkw7h"
      },
      "execution_count": null,
      "outputs": []
    },
    {
      "cell_type": "code",
      "source": [
        "#Drop Columns that use Floats from DataSets\n",
        "everton_home_p = everton_home_p.drop(['FT_Result', 'HT_Result'], axis = 1) \n",
        "everton_home_p_t = everton_home_p_t.drop(['FT_Result', 'HT_Result'], axis = 1) "
      ],
      "metadata": {
        "id": "Lr4wfReNkzeM"
      },
      "execution_count": null,
      "outputs": []
    },
    {
      "cell_type": "code",
      "source": [
        "#Declare Independent and Dependent Variables\n",
        "evh_y_train = everton_home_p['Result']\n",
        "evh_X_train = everton_home_p[['FT_HomeGoals', 'HT_HomeGoals','HomeShotsonTarget', 'HomeFouls','HomeYellowCards', 'HomeRedCards','Bet365_HomeWin_Odds', 'WilliamHill_HomeWin_Odds']]\n",
        "evh_y_test = everton_home_p_t['Result']\n",
        "evh_X_test = everton_home_p_t[['FT_HomeGoals', 'HT_HomeGoals','HomeShotsonTarget', 'HomeFouls','HomeYellowCards', 'HomeRedCards','Bet365_HomeWin_Odds', 'WilliamHill_Home']]"
      ],
      "metadata": {
        "id": "cn-D2IKXlHul"
      },
      "execution_count": null,
      "outputs": []
    },
    {
      "cell_type": "code",
      "source": [
        "from sklearn.linear_model import LogisticRegression\n",
        "evh_classifier = LogisticRegression(solver='lbfgs',\n",
        "                                max_iter=200,\n",
        "                                random_state=1)\n",
        "evh_classifier"
      ],
      "metadata": {
        "id": "LdRqdBFYlOsO"
      },
      "execution_count": null,
      "outputs": []
    },
    {
      "cell_type": "code",
      "source": [
        "evh_classifier.fit(evh_X_train, evh_y_train)\n"
      ],
      "metadata": {
        "id": "2OR9AXU1lPqq"
      },
      "execution_count": null,
      "outputs": []
    },
    {
      "cell_type": "code",
      "source": [
        "print(f\"Training Data Score: {evh_classifier.score(evh_X_train, evh_y_train)}\")\n",
        "print(f\"Testing Data Score: {evh_classifier.score(evh_X_test, evh_y_test)}\")"
      ],
      "metadata": {
        "id": "v7u5UBzxlSGV"
      },
      "execution_count": null,
      "outputs": []
    },
    {
      "cell_type": "code",
      "source": [
        "predictions = evh_classifier.predict(evh_X_test)\n",
        "results = pd.DataFrame({\"Prediction\": predictions, \"Actual\": evh_y_test})\n",
        "results.head(20)"
      ],
      "metadata": {
        "id": "jS3lRLAylU7O"
      },
      "execution_count": null,
      "outputs": []
    },
    {
      "cell_type": "code",
      "source": [
        "#Export to Excel, to add a cell in prematch stats (HomeTeam/AwayTeam and Book Maker odds). Deleted top and bottom row from CSV. \n",
        "#Now, For Example, the 5/1/2011 (Game2), has LiverPool versing NewCastle, but has the results of the Liverpool/Tottenham (Game1), to use as features for Game2.\n",
        "#Commenting out CSVs to prevent multiple saved files.\n",
        "\n",
        "\n",
        "#liverpool_away_t_df.to_csv('Liverpool_Away_T_p.csv')\n",
        "#liverpool_away_df.to_csv('Liverpool_Away_p.csv')"
      ],
      "metadata": {
        "id": "ME6pBaxIlXmE"
      },
      "execution_count": null,
      "outputs": []
    },
    {
      "cell_type": "code",
      "source": [
        "#Read in newly adjusted Liverpool CSVs as the AwayTeam\n",
        "liverpool_away_p = Path(\"RESOURCES/TeamCSVs2020/Liverpool_Away_p.csv\")\n",
        "liverpool_away_p_t = Path(\"RESOURCES/TeamCSVs2020/Liverpool_Away_T_p.csv\")\n",
        "#Read in CSVs\n",
        "liverpool_away_p = pd.read_csv(liverpool_away_p)\n",
        "liverpool_away_p_t = pd.read_csv(liverpool_away_p_t)"
      ],
      "metadata": {
        "id": "yC_iuvSOld10"
      },
      "execution_count": null,
      "outputs": []
    },
    {
      "cell_type": "code",
      "source": [
        "#Set Index of Date/HomeTeam/AwayTeam for Liverpool Away\n",
        "liverpool_away_p = liverpool_away_p.set_index(['Date', 'HomeTeam', 'AwayTeam'], drop = True)\n",
        "liverpool_away_p_t = liverpool_away_p_t.set_index(['Date', 'HomeTeam', 'AwayTeam'], drop = True)"
      ],
      "metadata": {
        "id": "8kBHjtHulexc"
      },
      "execution_count": null,
      "outputs": []
    },
    {
      "cell_type": "code",
      "source": [
        "#Drop Columns that use Floats from DataSets\n",
        "liverpool_away_p = liverpool_away_p.drop(['FT_Result', 'HT_Result'], axis = 1) \n",
        "liverpool_away_p_t = liverpool_away_p_t.drop(['FT_Result', 'HT_Result'], axis = 1) "
      ],
      "metadata": {
        "id": "UIu10MDZlhne"
      },
      "execution_count": null,
      "outputs": []
    },
    {
      "cell_type": "code",
      "source": [
        "#Declare Dependent/Independent Variables\n",
        "lpa_y_train = liverpool_away_p['Result']\n",
        "lpa_X_train = liverpool_away_p[['FT_AwayGoals', 'HT_AwayGoals','AwayShotsonTarget', 'AwayFouls','AwayYellowCards', 'AwayRedCards','Bet365_AwayWin_Odds', 'WilliamHill_AwayWin_Odds']]\n",
        "lpa_y_test = liverpool_away_p_t['Result']\n",
        "lpa_X_test = liverpool_away_p_t[['FT_AwayGoals', 'HT_AwayGoals','AwayShotsonTarget', 'AwayFouls','AwayYellowCards', 'AwayRedCards','Bet365_AwayWin_Odds', 'WilliamHill_AwayWin_Odds']]"
      ],
      "metadata": {
        "id": "iWSHj5aYlkJt"
      },
      "execution_count": null,
      "outputs": []
    },
    {
      "cell_type": "code",
      "source": [
        "from sklearn.linear_model import LogisticRegression\n",
        "lpa_classifier = LogisticRegression(solver='lbfgs',\n",
        "                                max_iter=200,\n",
        "                                random_state=1)\n",
        "lpa_classifier"
      ],
      "metadata": {
        "id": "FQYOovuZly0Q"
      },
      "execution_count": null,
      "outputs": []
    },
    {
      "cell_type": "code",
      "source": [
        "lpa_classifier.fit(lpa_X_train, lpa_y_train)\n"
      ],
      "metadata": {
        "id": "Yki9roR7l0B9"
      },
      "execution_count": null,
      "outputs": []
    },
    {
      "cell_type": "code",
      "source": [
        "print(f\"Training Data Score: {lpa_classifier.score(lpa_X_train, lpa_y_train)}\")\n",
        "print(f\"Testing Data Score: {lpa_classifier.score(lpa_X_test, lpa_y_test)}\")"
      ],
      "metadata": {
        "id": "repK61yZl2lB"
      },
      "execution_count": null,
      "outputs": []
    },
    {
      "cell_type": "code",
      "source": [
        "predictions = lpa_classifier.predict(lpa_X_test)\n",
        "results = pd.DataFrame({\"Prediction\": predictions, \"Actual\": lpa_y_test})\n",
        "results.head(20)"
      ],
      "metadata": {
        "id": "09b5iY8Ll5I2"
      },
      "execution_count": null,
      "outputs": []
    },
    {
      "cell_type": "code",
      "source": [
        "#SUMMARY\n"
      ],
      "metadata": {
        "id": "xOo1Ocz4mAk7"
      },
      "execution_count": null,
      "outputs": []
    },
    {
      "cell_type": "code",
      "source": [
        "#Create DataFrame for Potential Profit and Risk\n",
        "prediction_df = pd.DataFrame({\n",
        "    \"Match\" : [\"Everton vs Liverpool\", \"Chelsea vs Southampton\",\"Man City vs Arsenal\", \"Newcastle vs Man United\", \"Parlay All\"],\n",
        "    \n",
        "    \"Predicted Winner\" : [\"Liverpool\", \"Chelsea\", \"Man City\", \"Man United\", \"All\"],\n",
        "    \"Potential Return\" : [\"$1.86\", \"$1.50\", \"$1.47\", \"$1.67\", \"$6.82\"],\n",
        "    \"Risk\" : [\"$1.00\", \"$1.00\", \"$1.00\", \"$1.00\", \"1.00\"],\n",
        "    \"Potential Profit\" : [\"$.86\", \"$.50\", \"$.47\", \"$.67\", \"$5.82\"],\n",
        "    \"Implied Probability\" : [\"59.51%\", \"66.67%\", \"68.25%\", \"60%\", \"16.24%\"],\n",
        "    \"Realized Profit/Loss\" : [0, 0, 0, 0, 0]\n",
        "    \n",
        "})\n",
        "\n",
        "prediction_df.set_index('Match', inplace = True)\n",
        "\n",
        "prediction_df.head(20)"
      ],
      "metadata": {
        "id": "J8pA3dpAmEbJ"
      },
      "execution_count": null,
      "outputs": []
    }
  ]
}